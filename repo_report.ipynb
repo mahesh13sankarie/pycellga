{
 "cells": [
  {
   "cell_type": "code",
   "id": "initial_id",
   "metadata": {
    "collapsed": true,
    "ExecuteTime": {
     "end_time": "2025-02-28T23:57:35.451585Z",
     "start_time": "2025-02-28T23:57:26.752449Z"
    }
   },
   "source": [
    "%pip install pydriller==2.7\n",
    "%pip install \"plotly[express]\"\n",
    "%pip install pandas\n",
    "from pydriller import Repository\n",
    "from pydriller.metrics.process.code_churn import CodeChurn\n",
    "import plotly.express as px\n",
    "\n",
    "# Convert sorted_churn to a DataFrame\n",
    "import pandas as pd\n",
    "import glob\n",
    "import re\n",
    "from pydriller import Git\n",
    "import plotly.express as px\n",
    "from collections import Counter"
   ],
   "outputs": [
    {
     "name": "stdout",
     "output_type": "stream",
     "text": [
      "Requirement already satisfied: pydriller==2.7 in c:\\users\\maheshvari\\pycharmprojects\\pycellga\\.venv1\\lib\\site-packages (2.7)\n",
      "Requirement already satisfied: gitpython in c:\\users\\maheshvari\\pycharmprojects\\pycellga\\.venv1\\lib\\site-packages (from pydriller==2.7) (3.1.44)\n",
      "Requirement already satisfied: pytz in c:\\users\\maheshvari\\pycharmprojects\\pycellga\\.venv1\\lib\\site-packages (from pydriller==2.7) (2025.1)\n",
      "Requirement already satisfied: types-pytz in c:\\users\\maheshvari\\pycharmprojects\\pycellga\\.venv1\\lib\\site-packages (from pydriller==2.7) (2025.1.0.20250204)\n",
      "Requirement already satisfied: lizard in c:\\users\\maheshvari\\pycharmprojects\\pycellga\\.venv1\\lib\\site-packages (from pydriller==2.7) (1.17.20)\n",
      "Requirement already satisfied: gitdb<5,>=4.0.1 in c:\\users\\maheshvari\\pycharmprojects\\pycellga\\.venv1\\lib\\site-packages (from gitpython->pydriller==2.7) (4.0.12)\n",
      "Requirement already satisfied: pygments in c:\\users\\maheshvari\\pycharmprojects\\pycellga\\.venv1\\lib\\site-packages (from lizard->pydriller==2.7) (2.19.1)\n",
      "Requirement already satisfied: pathspec in c:\\users\\maheshvari\\pycharmprojects\\pycellga\\.venv1\\lib\\site-packages (from lizard->pydriller==2.7) (0.12.1)\n",
      "Requirement already satisfied: smmap<6,>=3.0.1 in c:\\users\\maheshvari\\pycharmprojects\\pycellga\\.venv1\\lib\\site-packages (from gitdb<5,>=4.0.1->gitpython->pydriller==2.7) (5.0.2)\n",
      "Note: you may need to restart the kernel to use updated packages.\n"
     ]
    },
    {
     "name": "stderr",
     "output_type": "stream",
     "text": [
      "\n",
      "[notice] A new release of pip is available: 23.2.1 -> 25.0.1\n",
      "[notice] To update, run: python.exe -m pip install --upgrade pip\n"
     ]
    },
    {
     "name": "stdout",
     "output_type": "stream",
     "text": [
      "Requirement already satisfied: plotly[express] in c:\\users\\maheshvari\\pycharmprojects\\pycellga\\.venv1\\lib\\site-packages (6.0.0)\n",
      "Requirement already satisfied: narwhals>=1.15.1 in c:\\users\\maheshvari\\pycharmprojects\\pycellga\\.venv1\\lib\\site-packages (from plotly[express]) (1.28.0)\n",
      "Requirement already satisfied: packaging in c:\\users\\maheshvari\\pycharmprojects\\pycellga\\.venv1\\lib\\site-packages (from plotly[express]) (24.2)\n",
      "Requirement already satisfied: numpy in c:\\users\\maheshvari\\pycharmprojects\\pycellga\\.venv1\\lib\\site-packages (from plotly[express]) (2.2.3)\n",
      "Note: you may need to restart the kernel to use updated packages.\n"
     ]
    },
    {
     "name": "stderr",
     "output_type": "stream",
     "text": [
      "\n",
      "[notice] A new release of pip is available: 23.2.1 -> 25.0.1\n",
      "[notice] To update, run: python.exe -m pip install --upgrade pip\n"
     ]
    },
    {
     "name": "stdout",
     "output_type": "stream",
     "text": [
      "Requirement already satisfied: pandas in c:\\users\\maheshvari\\pycharmprojects\\pycellga\\.venv1\\lib\\site-packages (2.2.3)\n",
      "Requirement already satisfied: numpy>=1.26.0 in c:\\users\\maheshvari\\pycharmprojects\\pycellga\\.venv1\\lib\\site-packages (from pandas) (2.2.3)\n",
      "Requirement already satisfied: python-dateutil>=2.8.2 in c:\\users\\maheshvari\\pycharmprojects\\pycellga\\.venv1\\lib\\site-packages (from pandas) (2.9.0.post0)\n",
      "Requirement already satisfied: pytz>=2020.1 in c:\\users\\maheshvari\\pycharmprojects\\pycellga\\.venv1\\lib\\site-packages (from pandas) (2025.1)\n",
      "Requirement already satisfied: tzdata>=2022.7 in c:\\users\\maheshvari\\pycharmprojects\\pycellga\\.venv1\\lib\\site-packages (from pandas) (2025.1)\n",
      "Requirement already satisfied: six>=1.5 in c:\\users\\maheshvari\\pycharmprojects\\pycellga\\.venv1\\lib\\site-packages (from python-dateutil>=2.8.2->pandas) (1.17.0)\n",
      "Note: you may need to restart the kernel to use updated packages.\n"
     ]
    },
    {
     "name": "stderr",
     "output_type": "stream",
     "text": [
      "\n",
      "[notice] A new release of pip is available: 23.2.1 -> 25.0.1\n",
      "[notice] To update, run: python.exe -m pip install --upgrade pip\n"
     ]
    }
   ],
   "execution_count": 1
  }
 ],
 "metadata": {
  "kernelspec": {
   "display_name": "Python 3",
   "language": "python",
   "name": "python3"
  },
  "language_info": {
   "codemirror_mode": {
    "name": "ipython",
    "version": 2
   },
   "file_extension": ".py",
   "mimetype": "text/x-python",
   "name": "python",
   "nbconvert_exporter": "python",
   "pygments_lexer": "ipython2",
   "version": "2.7.6"
  }
 },
 "nbformat": 4,
 "nbformat_minor": 5
}
